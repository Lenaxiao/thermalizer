{
 "cells": [
  {
   "cell_type": "code",
   "execution_count": 1,
   "metadata": {},
   "outputs": [
    {
     "data": {
      "text/plain": [
       "<torch._C.Generator at 0x11fc28390>"
      ]
     },
     "execution_count": 1,
     "metadata": {},
     "output_type": "execute_result"
    }
   ],
   "source": [
    "import numpy as np\n",
    "import pandas as pd\n",
    "import torch\n",
    "import torch.nn as nn\n",
    "from torch import optim\n",
    "import torch.nn.functional as F\n",
    "import os\n",
    "from torch.utils.data import DataLoader, sampler\n",
    "# load modules\n",
    "from pytorchtools import EarlyStopping #, Encoder, Decoder\n",
    "\n",
    "torch.manual_seed(1)"
   ]
  },
  {
   "cell_type": "code",
   "execution_count": 2,
   "metadata": {},
   "outputs": [
    {
     "name": "stdout",
     "output_type": "stream",
     "text": [
      "cpu\n"
     ]
    }
   ],
   "source": [
    "USE_CUDA = torch.cuda.is_available()\n",
    "device = torch.device(\"cuda\" if USE_CUDA else \"cpu\")\n",
    "print(device)"
   ]
  },
  {
   "cell_type": "markdown",
   "metadata": {},
   "source": [
    "# Data Processing"
   ]
  },
  {
   "cell_type": "code",
   "execution_count": 3,
   "metadata": {},
   "outputs": [],
   "source": [
    "PAD_TOKEN = 0\n",
    "SOS_TOKEN = 1\n",
    "EOS_TOKEN = 2\n",
    "\n",
    "class BuildVocab:\n",
    "    def __init__(self):\n",
    "        self.word2index = {'<PAD>': PAD_TOKEN, '<SOS>': SOS_TOKEN, '<EOS>': EOS_TOKEN}\n",
    "        self.word2count = {}\n",
    "        self.index2word = {PAD_TOKEN:'<PAD>', SOS_TOKEN: '<SOS>', EOS_TOKEN: '<EOS>'}\n",
    "        self.num_words = 3\n",
    "    \n",
    "    def fromCorpus(self, corpus):\n",
    "        for line in corpus:\n",
    "            self.fromSentence(line)\n",
    "    \n",
    "    def fromSentence(self, line):\n",
    "        for word in line:\n",
    "            self.toVocab(word)\n",
    "    \n",
    "    def toVocab(self, word):\n",
    "        if word not in self.word2index:\n",
    "            self.word2index[word] = self.num_words\n",
    "            self.word2count[word] = 1\n",
    "            self.index2word[self.num_words] = word\n",
    "            self.num_words += 1\n",
    "        else:\n",
    "            self.word2count[word] += 1"
   ]
  },
  {
   "cell_type": "code",
   "execution_count": 4,
   "metadata": {},
   "outputs": [
    {
     "name": "stdout",
     "output_type": "stream",
     "text": [
      "Trimming sentence from:  (401885, 4)\n",
      "To:  (1686, 4)\n",
      "Word Count:  24\n"
     ]
    }
   ],
   "source": [
    "df = pd.read_csv(\"protein_seq.csv\", index_col=0)\n",
    "df.drop_duplicates(inplace=True)\n",
    "print(\"Trimming sentence from: \", df.shape)\n",
    "\n",
    "# chop off the sequence length\n",
    "# keep sentence length <= a threshhold\n",
    "mask = (df[\"meso_seq\"].str.len()<=100)&(df[\"thermal_seq\"].str.len()<=100) ########\n",
    "df = df.loc[mask].reset_index(drop=True)\n",
    "print(\"To: \", df.shape)\n",
    "\n",
    "input_seq = df[\"meso_seq\"].tolist()\n",
    "target_seq = df[\"thermal_seq\"].tolist()\n",
    "\n",
    "voc = BuildVocab()\n",
    "voc.fromCorpus(input_seq + target_seq)\n",
    "print(\"Word Count: \", len(voc.word2index))"
   ]
  },
  {
   "cell_type": "code",
   "execution_count": 5,
   "metadata": {},
   "outputs": [],
   "source": [
    "# mapping character to index for all sentences\n",
    "def map_character(voc, line):\n",
    "    return [voc.word2index[word] for word in line] + [EOS_TOKEN] # EOS token\n",
    "\n",
    "def sequence_padding(ctx, max_len):\n",
    "    for index, seq in enumerate(ctx):\n",
    "        pad_to_seq = [PAD_TOKEN]*(max_len - len(seq))\n",
    "        ctx[index] = [*seq, *pad_to_seq]\n",
    "    return ctx\n",
    "\n",
    "def target_binary_mask(ctx):\n",
    "    for i, line in enumerate(ctx):\n",
    "        for j, index in enumerate(line):\n",
    "            if index != 0:\n",
    "                ctx[i][j] = 1\n",
    "    return ctx"
   ]
  },
  {
   "cell_type": "code",
   "execution_count": 6,
   "metadata": {},
   "outputs": [],
   "source": [
    "# input and output batch shape should be (max_length, batch_size)\n",
    "def input_init(input_batch, voc):\n",
    "    mapped_batch = [map_character(voc, line) for line in input_batch]\n",
    "    lengths = [len(seq_len) for seq_len in mapped_batch]\n",
    "    length_t = torch.tensor(lengths)\n",
    "    max_input_len = max(lengths)\n",
    "    padded_batch = sequence_padding(mapped_batch, max_input_len)\n",
    "    padded_batch_t = torch.LongTensor(padded_batch).t()\n",
    "    return padded_batch_t, length_t\n",
    "\n",
    "def target_init(target_batch, voc):\n",
    "    mapped_batch = [map_character(voc, line) for line in target_batch]\n",
    "    max_target_len = max(len(seq_len) for seq_len in mapped_batch)\n",
    "    padded_batch = sequence_padding(mapped_batch, max_target_len)\n",
    "    padded_batch_t = torch.LongTensor(padded_batch).t()\n",
    "    target_mask = target_binary_mask(padded_batch)\n",
    "    target_mask_t = torch.ByteTensor(target_mask).t()\n",
    "    return max_target_len, padded_batch_t, target_mask_t\n",
    "\n",
    "def batch_inp_out(loader):\n",
    "    batches = []\n",
    "    for input_batch, target_batch in loader:\n",
    "        # sort lengths to pack_padded_sequence later\n",
    "        input_batch, target_batch = zip(*sorted(zip(input_batch, target_batch),\n",
    "                                                key=lambda x:len(x[0]),\n",
    "                                                reverse=True))\n",
    "        input_batch = list(input_batch)\n",
    "        target_batch = list(target_batch)\n",
    "        input_t, lengths = input_init(input_batch, voc)\n",
    "        max_target_len, target_t, mask_t = target_init(target_batch, voc)\n",
    "        batches.append((input_t, lengths, max_target_len, target_t, mask_t))\n",
    "    return batches\n",
    "\n",
    "def train_val_split(input_seq, target_seq, batch_size):\n",
    "    num_train = len(input_seq)\n",
    "    indices = list(range(num_train))\n",
    "    np.random.shuffle(indices)\n",
    "    split = int(np.floor(0.1 * num_train)) # validate on 10% of data\n",
    "    train_indx, val_indx = indices[split:], indices[:split]\n",
    "    \n",
    "    data = list(zip(input_seq, target_seq))\n",
    "    train_sampler = sampler.SubsetRandomSampler(train_indx)\n",
    "    val_sampler = sampler.SubsetRandomSampler(val_indx)\n",
    "    \n",
    "    train_loader = DataLoader(data, batch_size=batch_size, sampler=train_sampler, drop_last=True)\n",
    "    val_loader = DataLoader(data, batch_size=batch_size, sampler=val_sampler, drop_last=True)\n",
    "    \n",
    "    train_batches = batch_inp_out(train_loader)\n",
    "    val_batches = batch_inp_out(val_loader)\n",
    "    return train_batches, val_batches"
   ]
  },
  {
   "cell_type": "code",
   "execution_count": 7,
   "metadata": {},
   "outputs": [
    {
     "name": "stdout",
     "output_type": "stream",
     "text": [
      "input sequences tensor:  torch.Size([101, 64])\n",
      "input length tensor:  64\n",
      "max target length:  101\n",
      "target sequences tensor:  torch.Size([101, 64])\n",
      "target binary mask:  torch.Size([101, 64])\n"
     ]
    }
   ],
   "source": [
    "### test\n",
    "train_batches, val_batches = train_val_split(input_seq, target_seq, 64)\n",
    "# input_t, lengths, max_target_len, target_t, mask_t = train_batches[-1]\n",
    "input_t, lengths, max_target_len, target_t, mask_t = val_batches[-1]\n",
    "print(\"input sequences tensor: \", input_t.shape)\n",
    "print(\"input length tensor: \", len(lengths))\n",
    "print(\"max target length: \", max_target_len)\n",
    "print(\"target sequences tensor: \", target_t.shape)\n",
    "print(\"target binary mask: \", mask_t.shape)"
   ]
  },
  {
   "cell_type": "markdown",
   "metadata": {},
   "source": [
    "# Build Neural Network\n",
    "## Part I: Encoder"
   ]
  },
  {
   "cell_type": "code",
   "execution_count": 8,
   "metadata": {},
   "outputs": [],
   "source": [
    "### comment this part if import modules above\n",
    "# network inherit from nn.Module (container) and override forward() method\n",
    "class Encoder(nn.Module):\n",
    "    def __init__(self, hidden_dim, embedding, layer_dim, dropout=0):\n",
    "        super(Encoder, self).__init__()\n",
    "        self.layer_dim, self.hidden_dim, self.embedding = layer_dim, hidden_dim, embedding\n",
    "        # nn.GRU(input_dim, hidden_dim, layer_dim)\n",
    "        self.gru = nn.GRU(hidden_dim, hidden_dim, layer_dim, dropout=dropout, bidirectional=True)\n",
    "    \n",
    "    # input_seq: (max_length, b atch_size)\n",
    "    # input_length: (batch_size)\n",
    "    def forward(self, input_seq, input_length):\n",
    "        \n",
    "        # for each batch_size add a random feature with shape of embedding_dim\n",
    "        # embeddings: (max_length, batch_size, embedding_dim=hidden_dim)\n",
    "        embeddings = self.embedding(input_seq)\n",
    "        \n",
    "        # tensor will be concated in time axis\n",
    "        # basically, it will again concat the first column (seq), second, ....\n",
    "        # pack: (sum_seq_len, num_directions * hidden_size)\n",
    "        pack = torch.nn.utils.rnn.pack_padded_sequence(embeddings, input_length)\n",
    "        \n",
    "        # hidden: (n_layers * num_directions, batch_size, hidden_size)\n",
    "        outputs, hidden = self.gru(pack)\n",
    "        \n",
    "        # unpack outputs: (max_length, batch_size, num_direction * hidden_size)\n",
    "        outputs, _ = torch.nn.utils.rnn.pad_packed_sequence(outputs)\n",
    "        \n",
    "        # sum bidirectional outputs\n",
    "        outputs = outputs[:, :, :self.hidden_dim] + outputs[:, :, self.hidden_dim:]\n",
    "        return outputs, hidden"
   ]
  },
  {
   "cell_type": "code",
   "execution_count": 9,
   "metadata": {},
   "outputs": [
    {
     "name": "stdout",
     "output_type": "stream",
     "text": [
      "Output shape:  torch.Size([5, 3, 40])\n",
      "hidden shape: torch.Size([4, 3, 20])\n",
      "output shape:  torch.Size([5, 3, 20])\n"
     ]
    }
   ],
   "source": [
    "## dimension test\n",
    "rnn = nn.GRU(6, 20, 2, bidirectional=True)  # (input_size = features, hidden_size, n_layers)\n",
    "inputs = torch.randn(5, 3, 6)  # (max_length, batch_size, input_size)\n",
    "h0 = torch.randn(2*2, 3, 20)  # (n_layers * num_direction, batch_size, hidden_size)\n",
    "output, hn = rnn(inputs, h0)\n",
    "print(\"Output shape: \", output.shape)  # (max_length, batch_size, hidden_size)\n",
    "print(\"hidden shape:\", hn.shape)  # (n_layers * num_direction, batch_size, hidden_size)\n",
    "output = output[:, :, :20] + output[:, :, 20:]\n",
    "print(\"output shape: \", output.shape)"
   ]
  },
  {
   "cell_type": "code",
   "execution_count": 10,
   "metadata": {},
   "outputs": [
    {
     "name": "stdout",
     "output_type": "stream",
     "text": [
      "tensor([ 1,  6,  9,  2,  7, 10,  3,  8,  4,  5])\n",
      "tensor([3, 3, 2, 1, 1])\n"
     ]
    }
   ],
   "source": [
    "## something about pack_padded_sequence...\n",
    "# (batch_size, max_length)\n",
    "a = torch.tensor([[1, 2, 3, 4, 5], [6, 7, 8, 0, 0], [9, 10, 0, 0, 0]])\n",
    "length = [5, 3, 2]\n",
    "targets = nn.utils.rnn.pack_padded_sequence(a, length, batch_first=True)\n",
    "print(targets[0]) # concat first element of every batch, second element of every batch...\n",
    "print(targets[1]) # different batch size for each timestep"
   ]
  },
  {
   "cell_type": "markdown",
   "metadata": {},
   "source": [
    "## Part II. Decoder: token by token until EOS\n",
    "Use current hidden state of the decoder and output of encoder.\n",
    "Global attention's score function:\n",
    "                      \n",
    "$$\n",
    "\\begin{equation}\n",
    "Scores = \n",
    "\\begin{cases}\n",
    "    h_t^T h_s & \\text{dot}\\\\\n",
    "    h_t W_a h_s & \\text{general}\\\\\n",
    "    v_a^T \\tanh(W_a[h_t;h_s]) & \\text{concat}\n",
    "\\end{cases}\n",
    "\\end{equation}\\\\\n",
    "$$\n",
    "Note: $h_t$ is the current target decoder state and $h_s$ is all encoder states (= encoder output). $W_a$ is the weight from linear layer."
   ]
  },
  {
   "cell_type": "code",
   "execution_count": 11,
   "metadata": {},
   "outputs": [],
   "source": [
    "### comment this part if modules loaded from above\n",
    "class Attn(torch.nn.Module):\n",
    "    def __init__(self, method, hidden_size):\n",
    "        super(Attn, self).__init__()\n",
    "        self.method = method\n",
    "        self.hidden_size = hidden_size\n",
    "    \n",
    "    # current decoder state (ht): (1, batch_size, hidden_size) \n",
    "    # encoder output (hs): (max_length, batch_size, hidden_size)\n",
    "    # return: (max_length, batch_size)\n",
    "    def attn_dot(self, ht, hs):\n",
    "        return torch.sum(ht * hs, dim=2) # sum across hidden_size\n",
    "    \n",
    "    # return: (batch_size, 1, max_length)\n",
    "    def forward(self, ht, hs):\n",
    "        # (batch_size, max_length)\n",
    "        score = self.attn_dot(ht, hs).t()\n",
    "        # normalize across each row so that the sum of each col in a row will be 1\n",
    "        # and add one dimension\n",
    "        return F.softmax(score, dim=1).unsqueeze(1)"
   ]
  },
  {
   "cell_type": "code",
   "execution_count": 12,
   "metadata": {},
   "outputs": [
    {
     "data": {
      "text/plain": [
       "torch.Size([5, 1, 10])"
      ]
     },
     "execution_count": 12,
     "metadata": {},
     "output_type": "execute_result"
    }
   ],
   "source": [
    "## Test Attn\n",
    "att = Attn('dot', 20)\n",
    "ht = torch.randn(1, 5, 20)\n",
    "hs = torch.randn(10, 5, 20)\n",
    "att.forward(ht, hs).shape"
   ]
  },
  {
   "cell_type": "code",
   "execution_count": 13,
   "metadata": {},
   "outputs": [],
   "source": [
    "### comment this part if modules loaded above\n",
    "class Decoder(nn.Module):\n",
    "    # note: input_size=feature size, output_size = vocabulary size\n",
    "    def __init__(self, method, embedding, hidden_size, output_size, n_layer=1, dropout=0):\n",
    "        super(Decoder, self).__init__()\n",
    "        self.method, self.hidden_size, self.output_size, self.n_layer = method, hidden_size, output_size, n_layer\n",
    "        self.embedding = embedding\n",
    "        self.embedding_dropout = nn.Dropout(dropout)\n",
    "        # embed_size = hidden_size here\n",
    "        self.gru = nn.GRU(hidden_size, hidden_size, n_layer, dropout=dropout)\n",
    "        self.concat = nn.Linear(hidden_size*2, hidden_size)\n",
    "        self.out = nn.Linear(hidden_size, output_size) \n",
    "        self.attn = Attn(method, hidden_size)\n",
    "    \n",
    "    # decoder_input: (1, batch_size) one batch of words at a time\n",
    "    # decoder_hidden: (n_layer * num_directional, batch_size, hidden_size)\n",
    "    # encoder_output: (max_length, batch_size, hidden_size)\n",
    "    def forward(self, decoder_input, decoder_hidden, encoder_output):\n",
    "        # embeds: (1, batch_size, embed_size=hidden_size)\n",
    "        embeds = self.embedding_dropout(self.embedding(decoder_input))\n",
    "\n",
    "        # only one word, no need to pack padded sequence...\n",
    "        \n",
    "        # decoder_output: (1, batch_size, hidden_size)\n",
    "        # hidden: (n_layers * num_directions, batch_size, hidden_size)\n",
    "        decoder_output, hidden = self.gru(embeds, decoder_hidden)\n",
    "        # calculate attention weight\n",
    "        # score: (batch_size, 1, max_length)\n",
    "        score = self.attn(decoder_output, encoder_output)\n",
    "        # context: (batch_size, hidden_size)\n",
    "        context = score.bmm(encoder_output.transpose(0, 1)).squeeze(1)\n",
    "        # decoder_output: (batch_size, hidden_size)\n",
    "        decoder_output = decoder_output.squeeze(0)\n",
    "        # concat into (batch_size, hidden_size*2)\n",
    "        linear_input = torch.cat((decoder_output, context), 1)\n",
    "        concat_output = torch.tanh(self.concat(linear_input))\n",
    "        # predict next word: (batch_size, vocab_size)\n",
    "        output = F.softmax(self.out(concat_output), dim=1)\n",
    "        return output, hidden"
   ]
  },
  {
   "cell_type": "code",
   "execution_count": 14,
   "metadata": {},
   "outputs": [
    {
     "name": "stdout",
     "output_type": "stream",
     "text": [
      "torch.Size([3, 5])\n",
      "tensor([[0.1057, 0.1441, 0.1823, 0.4148, 0.1531],\n",
      "        [0.1375, 0.1852, 0.1354, 0.2544, 0.2876],\n",
      "        [0.1331, 0.1758, 0.1664, 0.2730, 0.2516]], grad_fn=<SoftmaxBackward>)\n",
      "tensor([[0.4148],\n",
      "        [0.2876],\n",
      "        [0.2730]], grad_fn=<TopkBackward>)\n",
      "tensor([[3],\n",
      "        [4],\n",
      "        [3]])\n"
     ]
    }
   ],
   "source": [
    "## test\n",
    "linear_input_t = torch.randn(3, 8)  # (batch_size, hidden_size)\n",
    "concat = nn.Linear(8, 4)\n",
    "concat_output_t = torch.tanh(concat(linear_input_t))\n",
    "out = nn.Linear(4, 5) \n",
    "output = F.softmax(out(concat_output_t), dim=1)\n",
    "print(output.shape)\n",
    "print(output)\n",
    "f, t = output.topk(1) # torch.max(decoder_output, dim=1)\n",
    "print(f)\n",
    "print(t)"
   ]
  },
  {
   "cell_type": "code",
   "execution_count": 15,
   "metadata": {},
   "outputs": [],
   "source": [
    "# calculate loss and ignore padded part\n",
    "# dec_out: (batch_size, vocab_size)\n",
    "def loss_func(dec_out, target, mask):\n",
    "    # (batch_size, 1)\n",
    "    target = target.view(-1, 1)\n",
    "    # negative log likelihood\n",
    "    crossEntropy = -torch.log(torch.gather(dec_out, 1, target).squeeze(1))\n",
    "    # select non-zero elements and calculate the mean\n",
    "    loss = crossEntropy.masked_select(mask).mean()\n",
    "    loss = loss.to(device)\n",
    "    return loss, mask.sum().item()"
   ]
  },
  {
   "cell_type": "code",
   "execution_count": 16,
   "metadata": {},
   "outputs": [
    {
     "data": {
      "text/plain": [
       "(tensor(2.1858), 3)"
      ]
     },
     "execution_count": 16,
     "metadata": {},
     "output_type": "execute_result"
    }
   ],
   "source": [
    "## test loss_func\n",
    "dec_out = torch.randn(5, 7)\n",
    "dec_out = F.softmax(dec_out, dim=1)\n",
    "target = torch.LongTensor([3, 5, 4, 1, 2])\n",
    "mask = torch.tensor([1, 1, 0, 0, 1], dtype=torch.uint8)\n",
    "loss_func(dec_out, target, mask)\n",
    "# print(\"Dec_out:\", dec_out)\n",
    "# target = target.view(-1, 1)\n",
    "# print(\"target:\", target)\n",
    "# gather = torch.gather(dec_out, 1, target).squeeze(1)\n",
    "# print(\"gather:\", gather)\n",
    "# crossEntropy = -torch.log(gather)\n",
    "# print(\"crossEntropy:\", crossEntropy)\n",
    "# loss = crossEntropy.masked_select(mask)\n",
    "# print(\"loss:\", loss)"
   ]
  },
  {
   "cell_type": "markdown",
   "metadata": {},
   "source": [
    "## Part III. Training Process"
   ]
  },
  {
   "cell_type": "code",
   "execution_count": 17,
   "metadata": {},
   "outputs": [],
   "source": [
    "def loss_calulation(encoder, decoder, batch, batch_size, teacher_forcing_r):\n",
    "    \n",
    "    input_t, lengths, max_target_len, target_t, mask_t = batch\n",
    "    \n",
    "    input_t = input_t.to(device)\n",
    "    lengths = lengths.to(device)\n",
    "    target_t = target_t.to(device)\n",
    "    mask_t = mask_t.to(device)\n",
    "    \n",
    "    encoder_output, encoder_hidden = encoder(input_t, lengths)\n",
    "    decoder_input = torch.LongTensor([[SOS_TOKEN for _ in range(batch_size)]])\n",
    "    decoder_input = decoder_input.to(device)\n",
    "    # set initial decoder hidden state to the encoder's final state\n",
    "    decoder_hidden = encoder_hidden[:decoder.n_layer]\n",
    "    \n",
    "    loss = 0\n",
    "    print_loss = []\n",
    "    nTotals = 0\n",
    "    if np.random.random() < teacher_forcing_r:\n",
    "        for step in range(max_target_len):\n",
    "            decoder_output, decoder_hidden = decoder(decoder_input, decoder_hidden, encoder_output)\n",
    "            # teacher forcing: next input is current target\n",
    "            decoder_input = target_t[step].view(1, -1)\n",
    "            mask_loss, nTotal = loss_func(decoder_output, target_t[step], mask_t[step])\n",
    "            loss += mask_loss\n",
    "            print_loss.append(mask_loss.item()*nTotal)\n",
    "            nTotals += nTotal\n",
    "    else:\n",
    "        for step in range(max_target_len):\n",
    "            decoder_output, decoder_hidden = decoder(decoder_input, decoder_hidden, encoder_output)\n",
    "            # non teacher forcing: next input is current decoder output\n",
    "            # choose the index of word with highest possibility\n",
    "            _, indx = torch.max(decoder_output, dim=1) \n",
    "            decoder_input = torch.LongTensor([[indx[i] for i in range(batch_size)]])\n",
    "            decoder_input.to(device)\n",
    "            mask_loss, nTotal = loss_func(decoder_output, target_t[step], mask_t[step])\n",
    "            loss += mask_loss\n",
    "            print_loss.append(mask_loss.item()*nTotal)\n",
    "            nTotals += nTotal\n",
    "    \n",
    "    return print_loss, loss, nTotals"
   ]
  },
  {
   "cell_type": "code",
   "execution_count": 18,
   "metadata": {},
   "outputs": [],
   "source": [
    "# train for a fixed iterations\n",
    "def train(input_seq, target_seq, batch_size, epochs, hidden_dim, embedding, encoder, decoder,\n",
    "          encoder_opt, decoder_opt, teacher_forcing_r, epoch_from, folder, early_stopping_flag,\n",
    "          patience=20):\n",
    "    \n",
    "    avg_train_loss = []\n",
    "    avg_val_loss = []\n",
    "    \n",
    "    train_batches, val_batches = train_val_split(input_seq, target_seq, batch_size)\n",
    "    \n",
    "    print(encoder)\n",
    "    print(decoder)\n",
    "    \n",
    "    if early_stopping_flag:\n",
    "        early_stopping = EarlyStopping(patience=patience)\n",
    "    \n",
    "    for epoch in range(epoch_from, epochs):\n",
    "        ############\n",
    "        # Training #\n",
    "        ############\n",
    "        encoder.train()\n",
    "        decoder.train()\n",
    "        train_loss = []\n",
    "        for train_batch in train_batches:\n",
    "            # initialize and move the model to GPU/CPU\n",
    "            # set training mode\n",
    "            encoder_opt.zero_grad()\n",
    "            decoder_opt.zero_grad()\n",
    "\n",
    "            print_loss, loss, nTotals = loss_calulation(encoder, decoder, train_batch, batch_size, teacher_forcing_r)\n",
    "\n",
    "            loss.backward()\n",
    "\n",
    "            _ = torch.nn.utils.clip_grad_norm_(encoder.parameters(), 1.0)\n",
    "            _ = torch.nn.utils.clip_grad_norm_(decoder.parameters(), 1.0)\n",
    "\n",
    "            encoder_opt.step()  # update weights\n",
    "            decoder_opt.step()\n",
    "            \n",
    "            train_loss.append(sum(print_loss) / nTotals)\n",
    "        \n",
    "        print(\"train_finished!\")\n",
    "        ##############\n",
    "        # validation #\n",
    "        ##############\n",
    "        encoder.eval()\n",
    "        decoder.eval()\n",
    "        val_loss = []\n",
    "        for val_batch in val_batches:\n",
    "            print_loss, _, nTotals = loss_calulation(encoder, decoder, val_batch, batch_size, teacher_forcing_r)\n",
    "            \n",
    "            val_loss.append(sum(print_loss) / nTotals)  # loss for batches\n",
    "\n",
    "        avg_train_loss.append(np.average(train_loss))  # loss for epochs\n",
    "        avg_val_loss.append(np.average(val_loss))\n",
    "        print(\"Epoch: {}; train loss: {:.4}; val loss: {:.4}\".format(epoch + 1, avg_train_loss[-1], avg_val_loss[-1]))\n",
    "        \n",
    "        model_states = (\n",
    "            epoch,\n",
    "            encoder.state_dict(),\n",
    "            decoder.state_dict(),\n",
    "            encoder_opt.state_dict(),\n",
    "            decoder_opt.state_dict(),\n",
    "            voc.__dict__,\n",
    "            embedding.state_dict())\n",
    "        \n",
    "        if early_stopping_flag:\n",
    "            early_stopping(avg_val_loss[-1], model_states, folder)\n",
    "\n",
    "            if early_stopping.early_stop:\n",
    "                print('EarlyStopping ...')\n",
    "                break\n",
    "        \n",
    "    return avg_train_loss, avg_val_loss"
   ]
  },
  {
   "cell_type": "markdown",
   "metadata": {},
   "source": [
    "## Part IV. Run the Model"
   ]
  },
  {
   "cell_type": "code",
   "execution_count": 21,
   "metadata": {},
   "outputs": [],
   "source": [
    "# hyperparameters\n",
    "hidden_dim = 300\n",
    "enc_layer_dim = 2\n",
    "dec_layer_dim = 2\n",
    "dropout = 0.1\n",
    "attn_method = \"dot\"\n",
    "lr = 0.0001\n",
    "teacher_forcing_r = 0.5\n",
    "batch_size = 64\n",
    "epochs = 2000"
   ]
  },
  {
   "cell_type": "code",
   "execution_count": 30,
   "metadata": {},
   "outputs": [],
   "source": [
    "def run(folder, loadMode, early_stopping_flag):\n",
    "    if not os.path.exists(folder):\n",
    "        os.makedirs(folder)\n",
    "\n",
    "    if loadMode:\n",
    "        checkpoint = torch.load(loadMode)\n",
    "        enc_chp = checkpoint[\"enc\"]\n",
    "        dec_chp = checkpoint[\"dec\"]\n",
    "        enc_opt_chp = checkpoint[\"enc_opt\"]\n",
    "        dec_opt_chp = checkpoint[\"dec_opt\"]\n",
    "        voc.__dict__ = checkpoint[\"voc_dict\"]\n",
    "        embedding_chp = checkpoint[\"embedding\"]\n",
    "\n",
    "    embedding = nn.Embedding(voc.num_words, hidden_dim)\n",
    "    if loadMode:\n",
    "        embedding.load_state_dict(embedding_chp)\n",
    "\n",
    "    encoder = Encoder(hidden_dim, embedding, enc_layer_dim, dropout)\n",
    "    decoder = Decoder(attn_method, embedding, hidden_dim, voc.num_words, dec_layer_dim, dropout)\n",
    "    if loadMode:\n",
    "        encoder.load_state_dict(enc_chp)\n",
    "        decoder.load_state_dict(dec_chp)\n",
    "\n",
    "    encoder = encoder.to(device)\n",
    "    decoder = decoder.to(device)\n",
    "\n",
    "    encoder_opt = optim.Adam(encoder.parameters(), lr=lr)\n",
    "    decoder_opt = optim.Adam(decoder.parameters(), lr=lr)\n",
    "\n",
    "    epoch_from = 0\n",
    "    if loadMode:\n",
    "        encoder_opt.load_state_dict(enc_opt_chp)\n",
    "        decoder_opt.load_state_dict(dec_opt_chp)\n",
    "        epoch_from = checkpoint['epoch'] + 1\n",
    "\n",
    "    train_loss, val_loss = train(input_seq, target_seq, batch_size, epochs, hidden_dim, embedding,\n",
    "                                 encoder, decoder, encoder_opt, decoder_opt, teacher_forcing_r,\n",
    "                                 epoch_from, folder, early_stopping_flag)\n",
    "    \n",
    "    with open(os.path.join(folder, 'loss.txt'), 'w') as f:\n",
    "        for loss1, loss2 in list(zip(train_loss, val_loss)):\n",
    "            f.write(\"{}\\t{}\\n\".format(loss1, loss2))"
   ]
  },
  {
   "cell_type": "code",
   "execution_count": 22,
   "metadata": {
    "scrolled": true
   },
   "outputs": [
    {
     "name": "stdout",
     "output_type": "stream",
     "text": [
      "Encoder(\n",
      "  (embedding): Embedding(24, 300)\n",
      "  (gru): GRU(300, 300, num_layers=2, dropout=0.1, bidirectional=True)\n",
      ")\n",
      "Decoder(\n",
      "  (embedding): Embedding(24, 300)\n",
      "  (embedding_dropout): Dropout(p=0.1)\n",
      "  (gru): GRU(300, 300, num_layers=2, dropout=0.1)\n",
      "  (concat): Linear(in_features=600, out_features=300, bias=True)\n",
      "  (out): Linear(in_features=300, out_features=24, bias=True)\n",
      "  (attn): Attn()\n",
      ")\n",
      "train_finished!\n",
      "Epoch: 1; train loss: 3.035; val loss: 2.93\n",
      "train_finished!\n",
      "Epoch: 2; train loss: 2.916; val loss: 2.89\n",
      "train_finished!\n",
      "Epoch: 3; train loss: 2.884; val loss: 2.868\n",
      "train_finished!\n",
      "Epoch: 4; train loss: 2.871; val loss: 2.866\n",
      "train_finished!\n",
      "Epoch: 5; train loss: 2.863; val loss: 2.861\n",
      "train_finished!\n",
      "Epoch: 6; train loss: 2.859; val loss: 2.86\n",
      "train_finished!\n",
      "Epoch: 7; train loss: 2.854; val loss: 2.854\n",
      "train_finished!\n",
      "Epoch: 8; train loss: 2.85; val loss: 2.853\n",
      "train_finished!\n",
      "Epoch: 9; train loss: 2.847; val loss: 2.849\n",
      "train_finished!\n",
      "Epoch: 10; train loss: 2.843; val loss: 2.829\n",
      "train_finished!\n",
      "Epoch: 11; train loss: 2.838; val loss: 2.825\n",
      "train_finished!\n",
      "Epoch: 12; train loss: 2.829; val loss: 2.816\n",
      "train_finished!\n",
      "Epoch: 13; train loss: 2.815; val loss: 2.801\n",
      "train_finished!\n",
      "Epoch: 14; train loss: 2.814; val loss: 2.799\n",
      "train_finished!\n",
      "Epoch: 15; train loss: 2.808; val loss: 2.81\n",
      "train_finished!\n",
      "Epoch: 16; train loss: 2.805; val loss: 2.795\n",
      "train_finished!\n",
      "Epoch: 17; train loss: 2.801; val loss: 2.8\n",
      "train_finished!\n",
      "Epoch: 18; train loss: 2.799; val loss: 2.792\n",
      "train_finished!\n",
      "Epoch: 19; train loss: 2.799; val loss: 2.81\n",
      "train_finished!\n",
      "Epoch: 20; train loss: 2.793; val loss: 2.804\n",
      "train_finished!\n",
      "Epoch: 21; train loss: 2.791; val loss: 2.801\n",
      "train_finished!\n",
      "Epoch: 22; train loss: 2.786; val loss: 2.795\n",
      "train_finished!\n",
      "Epoch: 23; train loss: 2.786; val loss: 2.782\n",
      "train_finished!\n",
      "Epoch: 24; train loss: 2.786; val loss: 2.808\n",
      "train_finished!\n",
      "Epoch: 25; train loss: 2.78; val loss: 2.783\n",
      "train_finished!\n",
      "Epoch: 26; train loss: 2.779; val loss: 2.776\n",
      "train_finished!\n",
      "Epoch: 27; train loss: 2.774; val loss: 2.774\n",
      "train_finished!\n",
      "Epoch: 28; train loss: 2.772; val loss: 2.808\n",
      "train_finished!\n",
      "Epoch: 29; train loss: 2.783; val loss: 2.807\n",
      "train_finished!\n",
      "Epoch: 30; train loss: 2.764; val loss: 2.772\n",
      "train_finished!\n",
      "Epoch: 31; train loss: 2.763; val loss: 2.772\n",
      "train_finished!\n",
      "Epoch: 32; train loss: 2.763; val loss: 2.792\n",
      "train_finished!\n",
      "Epoch: 33; train loss: 2.769; val loss: 2.791\n",
      "train_finished!\n",
      "Epoch: 34; train loss: 2.755; val loss: 2.768\n",
      "train_finished!\n",
      "Epoch: 35; train loss: 2.759; val loss: 2.781\n",
      "train_finished!\n",
      "Epoch: 36; train loss: 2.76; val loss: 2.779\n",
      "train_finished!\n",
      "Epoch: 37; train loss: 2.756; val loss: 2.779\n",
      "train_finished!\n",
      "Epoch: 38; train loss: 2.753; val loss: 2.763\n",
      "train_finished!\n",
      "Epoch: 39; train loss: 2.748; val loss: 2.787\n",
      "train_finished!\n",
      "Epoch: 40; train loss: 2.759; val loss: 2.785\n",
      "train_finished!\n",
      "Epoch: 41; train loss: 2.745; val loss: 2.779\n",
      "train_finished!\n",
      "Epoch: 42; train loss: 2.749; val loss: 2.797\n",
      "train_finished!\n",
      "Epoch: 43; train loss: 2.74; val loss: 2.776\n",
      "train_finished!\n",
      "Epoch: 44; train loss: 2.735; val loss: 2.786\n",
      "train_finished!\n",
      "Epoch: 45; train loss: 2.735; val loss: 2.781\n",
      "train_finished!\n",
      "Epoch: 46; train loss: 2.742; val loss: 2.783\n",
      "train_finished!\n",
      "Epoch: 47; train loss: 2.732; val loss: 2.771\n",
      "train_finished!\n",
      "Epoch: 48; train loss: 2.734; val loss: 2.783\n",
      "train_finished!\n",
      "Epoch: 49; train loss: 2.731; val loss: 2.804\n",
      "train_finished!\n",
      "Epoch: 50; train loss: 2.741; val loss: 2.775\n",
      "train_finished!\n",
      "Epoch: 51; train loss: 2.743; val loss: 2.775\n",
      "train_finished!\n",
      "Epoch: 52; train loss: 2.731; val loss: 2.775\n",
      "train_finished!\n",
      "Epoch: 53; train loss: 2.732; val loss: 2.78\n",
      "train_finished!\n",
      "Epoch: 54; train loss: 2.73; val loss: 2.754\n",
      "train_finished!\n",
      "Epoch: 55; train loss: 2.716; val loss: 2.782\n",
      "train_finished!\n",
      "Epoch: 56; train loss: 2.729; val loss: 2.803\n",
      "train_finished!\n",
      "Epoch: 57; train loss: 2.722; val loss: 2.755\n",
      "train_finished!\n",
      "Epoch: 58; train loss: 2.719; val loss: 2.802\n",
      "train_finished!\n",
      "Epoch: 59; train loss: 2.706; val loss: 2.75\n",
      "train_finished!\n",
      "Epoch: 60; train loss: 2.714; val loss: 2.771\n",
      "train_finished!\n",
      "Epoch: 61; train loss: 2.719; val loss: 2.774\n",
      "train_finished!\n",
      "Epoch: 62; train loss: 2.713; val loss: 2.756\n",
      "train_finished!\n",
      "Epoch: 63; train loss: 2.717; val loss: 2.801\n",
      "train_finished!\n",
      "Epoch: 64; train loss: 2.698; val loss: 2.806\n",
      "train_finished!\n",
      "Epoch: 65; train loss: 2.717; val loss: 2.804\n",
      "train_finished!\n",
      "Epoch: 66; train loss: 2.706; val loss: 2.776\n",
      "train_finished!\n",
      "Epoch: 67; train loss: 2.723; val loss: 2.787\n",
      "train_finished!\n",
      "Epoch: 68; train loss: 2.702; val loss: 2.773\n",
      "train_finished!\n",
      "Epoch: 69; train loss: 2.692; val loss: 2.757\n",
      "train_finished!\n",
      "Epoch: 70; train loss: 2.7; val loss: 2.752\n",
      "train_finished!\n",
      "Epoch: 71; train loss: 2.71; val loss: 2.781\n",
      "train_finished!\n",
      "Epoch: 72; train loss: 2.698; val loss: 2.769\n",
      "train_finished!\n",
      "Epoch: 73; train loss: 2.683; val loss: 2.785\n",
      "train_finished!\n",
      "Epoch: 74; train loss: 2.675; val loss: 2.784\n",
      "train_finished!\n",
      "Epoch: 75; train loss: 2.681; val loss: 2.752\n",
      "train_finished!\n",
      "Epoch: 76; train loss: 2.681; val loss: 2.809\n",
      "train_finished!\n",
      "Epoch: 77; train loss: 2.68; val loss: 2.807\n",
      "train_finished!\n",
      "Epoch: 78; train loss: 2.672; val loss: 2.78\n",
      "train_finished!\n",
      "Epoch: 79; train loss: 2.662; val loss: 2.771\n",
      "EarlyStopping ...\n"
     ]
    }
   ],
   "source": [
    "## training process\n",
    "folder = os.path.join(\"checkpoints\", \"{}_{}_{}\".format(enc_layer_dim, dec_layer_dim, hidden_dim))\n",
    "loadMode = None\n",
    "early_stopping_flag = False\n",
    "\n",
    "run(folder, loadMode, early_stopping_flag)"
   ]
  },
  {
   "cell_type": "markdown",
   "metadata": {},
   "source": [
    "## Part V. Inference Process"
   ]
  },
  {
   "cell_type": "code",
   "execution_count": 33,
   "metadata": {},
   "outputs": [],
   "source": [
    "# Inference shares the same encoder/decoder structure as training process\n",
    "class InferenceDecoder(nn.Module):\n",
    "    def __init__(self, encoder, decoder):\n",
    "        super(InferenceDecoder, self).__init__()\n",
    "        self.encoder = encoder\n",
    "        self.decoder = decoder\n",
    "    \n",
    "    def forward(self, input_t, lengths, max_target_len):\n",
    "        encoder_output, encoder_hidden = encoder(input_t, lengths)\n",
    "        decoder_input = torch.LongTensor([[SOS_TOKEN]])\n",
    "        decoder_hidden = encoder_hidden[:decoder.n_layer]\n",
    "        \n",
    "        preds = torch.LongTensor()\n",
    "        probs = torch.zeros([0])\n",
    "        \n",
    "        decoder_input = decoder_input.to(device)\n",
    "        preds = preds.to(device)\n",
    "        probs = probs.to(device)\n",
    "        \n",
    "        for _ in range(max_target_len):\n",
    "            decoder_output, decoder_hidden = self.decoder(decoder_input, decoder_hidden, encoder_output)\n",
    "            prob, indx = torch.max(decoder_output, dim=1)\n",
    "            # non teacher forcing\n",
    "            decoder_input = torch.LongTensor([[indx]])\n",
    "            preds = torch.cat((preds, indx), dim=0)\n",
    "            probs = torch.cat((probs, prob), dim=0)\n",
    "            if preds[-1] == EOS_TOKEN:\n",
    "                break\n",
    "        \n",
    "        return preds, probs"
   ]
  },
  {
   "cell_type": "code",
   "execution_count": 34,
   "metadata": {},
   "outputs": [],
   "source": [
    "# one test_seq at a time\n",
    "def evaluation(inference, voc, test_seq):    \n",
    "    # word2index\n",
    "    mapped_batch = [map_character(voc, test_seq)]\n",
    "    lengths = torch.tensor([len(mapped_batch[0])])\n",
    "    input_batch = torch.LongTensor(mapped_batch).t()\n",
    "    input_batch = input_batch.to(device)\n",
    "    lengths = lengths.to(device)\n",
    "    preds, probs = inference(input_batch, lengths, 100)\n",
    "    decoded_words = [voc.index2word[indx.item()] for indx in preds]\n",
    "    return decoded_words"
   ]
  },
  {
   "cell_type": "code",
   "execution_count": 35,
   "metadata": {},
   "outputs": [],
   "source": [
    "def translate(loadMode, rand_indx):\n",
    "    checkpoint = torch.load(loadMode)\n",
    "    enc_chp = checkpoint[\"enc\"]\n",
    "    dec_chp = checkpoint[\"dec\"]\n",
    "    voc.__dict__ = checkpoint[\"voc_dict\"]\n",
    "    embedding_chp = checkpoint[\"embedding\"]\n",
    "\n",
    "    embedding = nn.Embedding(voc.num_words, hidden_dim)\n",
    "    embedding.load_state_dict(embedding_chp)\n",
    "\n",
    "    encoder = Encoder(hidden_dim, embedding, enc_layer_dim, dropout)\n",
    "    decoder = Decoder(attn_method, embedding, hidden_dim, voc.num_words, dec_layer_dim, dropout)\n",
    "    encoder.load_state_dict(enc_chp)\n",
    "    decoder.load_state_dict(dec_chp)\n",
    "\n",
    "    encoder = encoder.to(device)\n",
    "    decoder = decoder.to(device)\n",
    "    \n",
    "    encoder.eval()\n",
    "    decoder.eval()\n",
    "\n",
    "    test_seq = input_seq[rand_indx]\n",
    "    test_tar = target_seq[rand_indx]\n",
    "    inference = InferenceDecoder(encoder, decoder)\n",
    "    decoded_words = evaluation(inference, voc, test_seq)\n",
    "    print(\"Input: \", test_seq)\n",
    "    print(\"Target: \", test_tar)\n",
    "    print(\"Prediction:\", ''.join(decoded_words))"
   ]
  },
  {
   "cell_type": "code",
   "execution_count": 36,
   "metadata": {},
   "outputs": [
    {
     "name": "stdout",
     "output_type": "stream",
     "text": [
      "Input:  MQINYPINPDWTTDELIEVVEFYNVVAQANEGGVEREVFLDSYRAFKRIVTSKSEEKQLNAVHDEQTGYSTYRTVQAAMKSSSKMIKL\n",
      "Target:  MKFYTIKLPRFLGGIVRAVLNAFKKG\n",
      "Prediction: MKIPPPPPVPDDDERRRRRRRRRRRRRRRLLLKKLKKLKKLKLKKLKLKLKLKELKEEELKEEEELKEEEEEEELEEEEEEEEEEEEE<EOS>\n"
     ]
    }
   ],
   "source": [
    "## translation process\n",
    "seq_indx = np.random.choice(range(len(input_seq)))\n",
    "loadMode = os.path.join(folder, \"checkpoint.tar\")\n",
    "translate(loadMode, seq_indx)"
   ]
  },
  {
   "cell_type": "markdown",
   "metadata": {},
   "source": [
    "## Part VI. Plot Result"
   ]
  },
  {
   "cell_type": "code",
   "execution_count": 24,
   "metadata": {},
   "outputs": [],
   "source": [
    "import matplotlib.pyplot as plt\n",
    "%matplotlib inline"
   ]
  },
  {
   "cell_type": "code",
   "execution_count": 25,
   "metadata": {},
   "outputs": [
    {
     "data": {
      "image/png": "[encoded data removed]",
      "text/plain": [
       "<Figure size 720x576 with 1 Axes>"
      ]
     },
     "metadata": {
      "needs_background": "light"
     },
     "output_type": "display_data"
    }
   ],
   "source": [
    "# visualize the loss as the network trained\n",
    "fig = plt.figure(figsize=(10,8))\n",
    "plt.plot(range(1,len(train_loss)+1),train_loss, label='Training Loss')\n",
    "plt.plot(range(1,len(val_loss)+1),val_loss,label='Validation Loss')\n",
    "\n",
    "# find position of lowest validation loss\n",
    "minposs = val_loss.index(min(val_loss))+1 \n",
    "plt.axvline(minposs, linestyle='--', color='r',label='Early Stopping Checkpoint')\n",
    "\n",
    "plt.xlabel('epochs')\n",
    "plt.ylabel('loss')\n",
    "plt.xlim(0, len(train_loss)+1) # consistent scale\n",
    "plt.grid(True)\n",
    "plt.legend()\n",
    "plt.tight_layout()\n",
    "plt.show()\n",
    "fig.savefig('loss_plot.png', bbox_inches='tight')"
   ]
  },
  {
   "cell_type": "code",
   "execution_count": null,
   "metadata": {},
   "outputs": [],
   "source": []
  },
  {
   "cell_type": "code",
   "execution_count": null,
   "metadata": {},
   "outputs": [],
   "source": []
  }
 ],
 "metadata": {
  "kernelspec": {
   "display_name": "Python 3",
   "language": "python",
   "name": "python3"
  },
  "language_info": {
   "codemirror_mode": {
    "name": "ipython",
    "version": 3
   },
   "file_extension": ".py",
   "mimetype": "text/x-python",
   "name": "python",
   "nbconvert_exporter": "python",
   "pygments_lexer": "ipython3",
   "version": "3.6.1"
  }
 },
 "nbformat": 4,
 "nbformat_minor": 2
}
